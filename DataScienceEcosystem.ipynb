{
 "cells": [
  {
   "cell_type": "markdown",
   "id": "33224e0b",
   "metadata": {},
   "source": [
    "# Data Science Tools and Ecosystem"
   ]
  },
  {
   "cell_type": "markdown",
   "id": "99775a60",
   "metadata": {},
   "source": [
    "In this notebook, DAta Science Tools and Ecosystem are summarized."
   ]
  },
  {
   "cell_type": "markdown",
   "id": "c40133f7",
   "metadata": {},
   "source": [
    "Some of the popular langguages that Data Sientists use are:\n",
    "+ Python\n",
    "+ R\n",
    "+ SQL\n",
    "+ Scala\n",
    "+ Java\n",
    "+ JavaScript\n",
    "+ Julia"
   ]
  },
  {
   "cell_type": "markdown",
   "id": "ff476b4a",
   "metadata": {},
   "source": [
    "Some of the commonly used libraries used by Data Scientists are:\n",
    "### In Python:\n",
    "+ Numpy\n",
    "+ pandas\n",
    "+ matplotlib\n",
    "+ Scikit-learn\n",
    "\n",
    "### In R:\n",
    "+ ggplot\n",
    "+ TensorFlow\n",
    "+ Keras"
   ]
  },
  {
   "cell_type": "markdown",
   "id": "e2ea4757",
   "metadata": {},
   "source": [
    "|Data Science Tools| \n",
    "|:-:|\n",
    "|RStudio|\n",
    "|Jupyter notebook| \n",
    "|GitHub|"
   ]
  },
  {
   "cell_type": "markdown",
   "id": "60d2f920",
   "metadata": {},
   "source": [
    "Below are a few example of evaluating arithmetic expressions in Python"
   ]
  },
  {
   "cell_type": "code",
   "execution_count": 3,
   "id": "3897e128",
   "metadata": {},
   "outputs": [
    {
     "name": "stdout",
     "output_type": "stream",
     "text": [
      "(8 * 9) + 9 = 81\n"
     ]
    }
   ],
   "source": [
    "# Multiply and add integers\n",
    "\n",
    "x = 8\n",
    "y = 9\n",
    "res = (x*y)+y\n",
    "print(f\"({x} * {y}) + {y} = {res}\")"
   ]
  },
  {
   "cell_type": "code",
   "execution_count": 18,
   "id": "71804298",
   "metadata": {},
   "outputs": [
    {
     "name": "stdout",
     "output_type": "stream",
     "text": [
      "200 min = 3.333333 hours\n"
     ]
    }
   ],
   "source": [
    "# Convert minutes to hours\n",
    "min_ = 200\n",
    "hour = min_ / 60\n",
    "print(f\"{min_} min = {hour:2f} hours\")"
   ]
  },
  {
   "cell_type": "markdown",
   "id": "904aabf7",
   "metadata": {},
   "source": [
    "**Objectives:**\n",
    "+ List poular languages for Data Science\n",
    "- List popular libraries for Data Science\n",
    "+ List popular Data Science Tools\n",
    "- Some arithmetic expressions in Python"
   ]
  },
  {
   "cell_type": "markdown",
   "id": "243dfeb0",
   "metadata": {},
   "source": [
    "## Author\n",
    "Maysa Shaar"
   ]
  },
  {
   "cell_type": "code",
   "execution_count": null,
   "id": "fd8ae4cb",
   "metadata": {},
   "outputs": [],
   "source": []
  }
 ],
 "metadata": {
  "kernelspec": {
   "display_name": "Python 3 (ipykernel)",
   "language": "python",
   "name": "python3"
  },
  "language_info": {
   "codemirror_mode": {
    "name": "ipython",
    "version": 3
   },
   "file_extension": ".py",
   "mimetype": "text/x-python",
   "name": "python",
   "nbconvert_exporter": "python",
   "pygments_lexer": "ipython3",
   "version": "3.9.13"
  }
 },
 "nbformat": 4,
 "nbformat_minor": 5
}
